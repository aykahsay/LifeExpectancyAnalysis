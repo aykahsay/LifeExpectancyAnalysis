{
 "cells": [
  {
   "cell_type": "markdown",
   "metadata": {},
   "source": [
    "## Life Expectancy Analysis"
   ]
  },
  {
   "cell_type": "code",
   "execution_count": 1,
   "metadata": {},
   "outputs": [],
   "source": [
    "import pandas as pd\n",
    "import numpy as np\n",
    "import matplotlib.pyplot as plt"
   ]
  },
  {
   "cell_type": "code",
   "execution_count": 109,
   "metadata": {},
   "outputs": [
    {
     "data": {
      "application/vnd.microsoft.datawrangler.viewer.v0+json": {
       "columns": [
        {
         "name": "index",
         "rawType": "int64",
         "type": "integer"
        },
        {
         "name": "Entity",
         "rawType": "object",
         "type": "string"
        },
        {
         "name": "Code",
         "rawType": "object",
         "type": "string"
        },
        {
         "name": "Year",
         "rawType": "int64",
         "type": "integer"
        },
        {
         "name": "LifeExpectancy",
         "rawType": "float64",
         "type": "float"
        }
       ],
       "conversionMethod": "pd.DataFrame",
       "ref": "4c382acf-dfc5-4476-9fef-c6c98cae061f",
       "rows": [
        [
         "0",
         "Afghanistan",
         "AFG",
         "1950",
         "27.7275"
        ],
        [
         "1",
         "Afghanistan",
         "AFG",
         "1951",
         "27.9634"
        ],
        [
         "2",
         "Afghanistan",
         "AFG",
         "1952",
         "28.4456"
        ],
        [
         "3",
         "Afghanistan",
         "AFG",
         "1953",
         "28.9304"
        ],
        [
         "4",
         "Afghanistan",
         "AFG",
         "1954",
         "29.2258"
        ]
       ],
       "shape": {
        "columns": 4,
        "rows": 5
       }
      },
      "text/html": [
       "<div>\n",
       "<style scoped>\n",
       "    .dataframe tbody tr th:only-of-type {\n",
       "        vertical-align: middle;\n",
       "    }\n",
       "\n",
       "    .dataframe tbody tr th {\n",
       "        vertical-align: top;\n",
       "    }\n",
       "\n",
       "    .dataframe thead th {\n",
       "        text-align: right;\n",
       "    }\n",
       "</style>\n",
       "<table border=\"1\" class=\"dataframe\">\n",
       "  <thead>\n",
       "    <tr style=\"text-align: right;\">\n",
       "      <th></th>\n",
       "      <th>Entity</th>\n",
       "      <th>Code</th>\n",
       "      <th>Year</th>\n",
       "      <th>LifeExpectancy</th>\n",
       "    </tr>\n",
       "  </thead>\n",
       "  <tbody>\n",
       "    <tr>\n",
       "      <th>0</th>\n",
       "      <td>Afghanistan</td>\n",
       "      <td>AFG</td>\n",
       "      <td>1950</td>\n",
       "      <td>27.7275</td>\n",
       "    </tr>\n",
       "    <tr>\n",
       "      <th>1</th>\n",
       "      <td>Afghanistan</td>\n",
       "      <td>AFG</td>\n",
       "      <td>1951</td>\n",
       "      <td>27.9634</td>\n",
       "    </tr>\n",
       "    <tr>\n",
       "      <th>2</th>\n",
       "      <td>Afghanistan</td>\n",
       "      <td>AFG</td>\n",
       "      <td>1952</td>\n",
       "      <td>28.4456</td>\n",
       "    </tr>\n",
       "    <tr>\n",
       "      <th>3</th>\n",
       "      <td>Afghanistan</td>\n",
       "      <td>AFG</td>\n",
       "      <td>1953</td>\n",
       "      <td>28.9304</td>\n",
       "    </tr>\n",
       "    <tr>\n",
       "      <th>4</th>\n",
       "      <td>Afghanistan</td>\n",
       "      <td>AFG</td>\n",
       "      <td>1954</td>\n",
       "      <td>29.2258</td>\n",
       "    </tr>\n",
       "  </tbody>\n",
       "</table>\n",
       "</div>"
      ],
      "text/plain": [
       "        Entity Code  Year  LifeExpectancy\n",
       "0  Afghanistan  AFG  1950         27.7275\n",
       "1  Afghanistan  AFG  1951         27.9634\n",
       "2  Afghanistan  AFG  1952         28.4456\n",
       "3  Afghanistan  AFG  1953         28.9304\n",
       "4  Afghanistan  AFG  1954         29.2258"
      ]
     },
     "execution_count": 109,
     "metadata": {},
     "output_type": "execute_result"
    }
   ],
   "source": [
    "# Load the CSV file into a DataFrame\n",
    "file_path = r\"C:\\Users\\Admin\\OneDrive - United States International University (USIU)\\Documents\\KULU_Doc\\Projects\\CAN\\life_expectancy.csv\"\n",
    "df = pd.read_csv(file_path)\n",
    "\n",
    "# Display the first few rows of the DataFrame\n",
    "df.head()"
   ]
  },
  {
   "cell_type": "code",
   "execution_count": 110,
   "metadata": {},
   "outputs": [
    {
     "name": "stdout",
     "output_type": "stream",
     "text": [
      "(20755, 4)\n",
      "<class 'pandas.core.frame.DataFrame'>\n",
      "RangeIndex: 20755 entries, 0 to 20754\n",
      "Data columns (total 4 columns):\n",
      " #   Column          Non-Null Count  Dtype  \n",
      "---  ------          --------------  -----  \n",
      " 0   Entity          20755 non-null  object \n",
      " 1   Code            19061 non-null  object \n",
      " 2   Year            20755 non-null  int64  \n",
      " 3   LifeExpectancy  20755 non-null  float64\n",
      "dtypes: float64(1), int64(1), object(2)\n",
      "memory usage: 648.7+ KB\n",
      "None\n"
     ]
    }
   ],
   "source": [
    "print(df.shape)\n",
    "print(df.info())"
   ]
  },
  {
   "cell_type": "code",
   "execution_count": 111,
   "metadata": {},
   "outputs": [
    {
     "name": "stdout",
     "output_type": "stream",
     "text": [
      "261\n",
      "313\n"
     ]
    }
   ],
   "source": [
    "print(df[\"Entity\"].nunique())\n",
    "print(df[\"Year\"].nunique())\n"
   ]
  },
  {
   "cell_type": "code",
   "execution_count": 129,
   "metadata": {},
   "outputs": [
    {
     "data": {
      "application/vnd.microsoft.datawrangler.viewer.v0+json": {
       "columns": [
        {
         "name": "Year",
         "rawType": "int64",
         "type": "integer"
        },
        {
         "name": "Afghanistan",
         "rawType": "float64",
         "type": "float"
        },
        {
         "name": "Africa",
         "rawType": "float64",
         "type": "float"
        },
        {
         "name": "Albania",
         "rawType": "float64",
         "type": "float"
        },
        {
         "name": "Algeria",
         "rawType": "float64",
         "type": "float"
        },
        {
         "name": "American Samoa",
         "rawType": "float64",
         "type": "float"
        },
        {
         "name": "Americas",
         "rawType": "float64",
         "type": "float"
        },
        {
         "name": "Andorra",
         "rawType": "float64",
         "type": "float"
        },
        {
         "name": "Angola",
         "rawType": "float64",
         "type": "float"
        },
        {
         "name": "Anguilla",
         "rawType": "float64",
         "type": "float"
        },
        {
         "name": "Antigua and Barbuda",
         "rawType": "float64",
         "type": "float"
        },
        {
         "name": "Argentina",
         "rawType": "float64",
         "type": "float"
        },
        {
         "name": "Armenia",
         "rawType": "float64",
         "type": "float"
        },
        {
         "name": "Aruba",
         "rawType": "float64",
         "type": "float"
        },
        {
         "name": "Asia",
         "rawType": "float64",
         "type": "float"
        },
        {
         "name": "Australia",
         "rawType": "float64",
         "type": "float"
        },
        {
         "name": "Austria",
         "rawType": "float64",
         "type": "float"
        },
        {
         "name": "Azerbaijan",
         "rawType": "float64",
         "type": "float"
        },
        {
         "name": "Bahamas",
         "rawType": "float64",
         "type": "float"
        },
        {
         "name": "Bahrain",
         "rawType": "float64",
         "type": "float"
        },
        {
         "name": "Bangladesh",
         "rawType": "float64",
         "type": "float"
        },
        {
         "name": "Barbados",
         "rawType": "float64",
         "type": "float"
        },
        {
         "name": "Belarus",
         "rawType": "float64",
         "type": "float"
        },
        {
         "name": "Belgium",
         "rawType": "float64",
         "type": "float"
        },
        {
         "name": "Belize",
         "rawType": "float64",
         "type": "float"
        },
        {
         "name": "Benin",
         "rawType": "float64",
         "type": "float"
        },
        {
         "name": "Bermuda",
         "rawType": "float64",
         "type": "float"
        },
        {
         "name": "Bhutan",
         "rawType": "float64",
         "type": "float"
        },
        {
         "name": "Bolivia",
         "rawType": "float64",
         "type": "float"
        },
        {
         "name": "Bonaire Sint Eustatius and Saba",
         "rawType": "float64",
         "type": "float"
        },
        {
         "name": "Bosnia and Herzegovina",
         "rawType": "float64",
         "type": "float"
        },
        {
         "name": "Botswana",
         "rawType": "float64",
         "type": "float"
        },
        {
         "name": "Brazil",
         "rawType": "float64",
         "type": "float"
        },
        {
         "name": "British Virgin Islands",
         "rawType": "float64",
         "type": "float"
        },
        {
         "name": "Brunei",
         "rawType": "float64",
         "type": "float"
        },
        {
         "name": "Bulgaria",
         "rawType": "float64",
         "type": "float"
        },
        {
         "name": "Burkina Faso",
         "rawType": "float64",
         "type": "float"
        },
        {
         "name": "Burundi",
         "rawType": "float64",
         "type": "float"
        },
        {
         "name": "Cambodia",
         "rawType": "float64",
         "type": "float"
        },
        {
         "name": "Cameroon",
         "rawType": "float64",
         "type": "float"
        },
        {
         "name": "Canada",
         "rawType": "float64",
         "type": "float"
        },
        {
         "name": "Cape Verde",
         "rawType": "float64",
         "type": "float"
        },
        {
         "name": "Cayman Islands",
         "rawType": "float64",
         "type": "float"
        },
        {
         "name": "Central African Republic",
         "rawType": "float64",
         "type": "float"
        },
        {
         "name": "Chad",
         "rawType": "float64",
         "type": "float"
        },
        {
         "name": "Chile",
         "rawType": "float64",
         "type": "float"
        },
        {
         "name": "China",
         "rawType": "float64",
         "type": "float"
        },
        {
         "name": "Colombia",
         "rawType": "float64",
         "type": "float"
        },
        {
         "name": "Comoros",
         "rawType": "float64",
         "type": "float"
        },
        {
         "name": "Congo",
         "rawType": "float64",
         "type": "float"
        },
        {
         "name": "Cook Islands",
         "rawType": "float64",
         "type": "float"
        },
        {
         "name": "Costa Rica",
         "rawType": "float64",
         "type": "float"
        },
        {
         "name": "Cote d'Ivoire",
         "rawType": "float64",
         "type": "float"
        },
        {
         "name": "Croatia",
         "rawType": "float64",
         "type": "float"
        },
        {
         "name": "Cuba",
         "rawType": "float64",
         "type": "float"
        },
        {
         "name": "Curacao",
         "rawType": "float64",
         "type": "float"
        },
        {
         "name": "Cyprus",
         "rawType": "float64",
         "type": "float"
        },
        {
         "name": "Czechia",
         "rawType": "float64",
         "type": "float"
        },
        {
         "name": "Democratic Republic of Congo",
         "rawType": "float64",
         "type": "float"
        },
        {
         "name": "Denmark",
         "rawType": "float64",
         "type": "float"
        },
        {
         "name": "Djibouti",
         "rawType": "float64",
         "type": "float"
        },
        {
         "name": "Dominica",
         "rawType": "float64",
         "type": "float"
        },
        {
         "name": "Dominican Republic",
         "rawType": "float64",
         "type": "float"
        },
        {
         "name": "East Timor",
         "rawType": "float64",
         "type": "float"
        },
        {
         "name": "Ecuador",
         "rawType": "float64",
         "type": "float"
        },
        {
         "name": "Egypt",
         "rawType": "float64",
         "type": "float"
        },
        {
         "name": "El Salvador",
         "rawType": "float64",
         "type": "float"
        },
        {
         "name": "England and Wales",
         "rawType": "float64",
         "type": "float"
        },
        {
         "name": "Equatorial Guinea",
         "rawType": "float64",
         "type": "float"
        },
        {
         "name": "Eritrea",
         "rawType": "float64",
         "type": "float"
        },
        {
         "name": "Estonia",
         "rawType": "float64",
         "type": "float"
        },
        {
         "name": "Eswatini",
         "rawType": "float64",
         "type": "float"
        },
        {
         "name": "Ethiopia",
         "rawType": "float64",
         "type": "float"
        },
        {
         "name": "Europe",
         "rawType": "float64",
         "type": "float"
        },
        {
         "name": "Falkland Islands",
         "rawType": "float64",
         "type": "float"
        },
        {
         "name": "Faroe Islands",
         "rawType": "float64",
         "type": "float"
        },
        {
         "name": "Fiji",
         "rawType": "float64",
         "type": "float"
        },
        {
         "name": "Finland",
         "rawType": "float64",
         "type": "float"
        },
        {
         "name": "France",
         "rawType": "float64",
         "type": "float"
        },
        {
         "name": "French Guiana",
         "rawType": "float64",
         "type": "float"
        },
        {
         "name": "French Polynesia",
         "rawType": "float64",
         "type": "float"
        },
        {
         "name": "Gabon",
         "rawType": "float64",
         "type": "float"
        },
        {
         "name": "Gambia",
         "rawType": "float64",
         "type": "float"
        },
        {
         "name": "Georgia",
         "rawType": "float64",
         "type": "float"
        },
        {
         "name": "Germany",
         "rawType": "float64",
         "type": "float"
        },
        {
         "name": "Ghana",
         "rawType": "float64",
         "type": "float"
        },
        {
         "name": "Gibraltar",
         "rawType": "float64",
         "type": "float"
        },
        {
         "name": "Greece",
         "rawType": "float64",
         "type": "float"
        },
        {
         "name": "Greenland",
         "rawType": "float64",
         "type": "float"
        },
        {
         "name": "Grenada",
         "rawType": "float64",
         "type": "float"
        },
        {
         "name": "Guadeloupe",
         "rawType": "float64",
         "type": "float"
        },
        {
         "name": "Guam",
         "rawType": "float64",
         "type": "float"
        },
        {
         "name": "Guatemala",
         "rawType": "float64",
         "type": "float"
        },
        {
         "name": "Guernsey",
         "rawType": "float64",
         "type": "float"
        },
        {
         "name": "Guinea",
         "rawType": "float64",
         "type": "float"
        },
        {
         "name": "Guinea-Bissau",
         "rawType": "float64",
         "type": "float"
        },
        {
         "name": "Guyana",
         "rawType": "float64",
         "type": "float"
        },
        {
         "name": "Haiti",
         "rawType": "float64",
         "type": "float"
        },
        {
         "name": "High-income countries",
         "rawType": "float64",
         "type": "float"
        },
        {
         "name": "Honduras",
         "rawType": "float64",
         "type": "float"
        },
        {
         "name": "Hong Kong",
         "rawType": "float64",
         "type": "float"
        },
        {
         "name": "Hungary",
         "rawType": "float64",
         "type": "float"
        },
        {
         "name": "Iceland",
         "rawType": "float64",
         "type": "float"
        },
        {
         "name": "India",
         "rawType": "float64",
         "type": "float"
        },
        {
         "name": "Indonesia",
         "rawType": "float64",
         "type": "float"
        },
        {
         "name": "Iran",
         "rawType": "float64",
         "type": "float"
        },
        {
         "name": "Iraq",
         "rawType": "float64",
         "type": "float"
        },
        {
         "name": "Ireland",
         "rawType": "float64",
         "type": "float"
        },
        {
         "name": "Isle of Man",
         "rawType": "float64",
         "type": "float"
        },
        {
         "name": "Israel",
         "rawType": "float64",
         "type": "float"
        },
        {
         "name": "Italy",
         "rawType": "float64",
         "type": "float"
        },
        {
         "name": "Jamaica",
         "rawType": "float64",
         "type": "float"
        },
        {
         "name": "Japan",
         "rawType": "float64",
         "type": "float"
        },
        {
         "name": "Jersey",
         "rawType": "float64",
         "type": "float"
        },
        {
         "name": "Jordan",
         "rawType": "float64",
         "type": "float"
        },
        {
         "name": "Kazakhstan",
         "rawType": "float64",
         "type": "float"
        },
        {
         "name": "Kenya",
         "rawType": "float64",
         "type": "float"
        },
        {
         "name": "Kiribati",
         "rawType": "float64",
         "type": "float"
        },
        {
         "name": "Kosovo",
         "rawType": "float64",
         "type": "float"
        },
        {
         "name": "Kuwait",
         "rawType": "float64",
         "type": "float"
        },
        {
         "name": "Kyrgyzstan",
         "rawType": "float64",
         "type": "float"
        },
        {
         "name": "Land-locked Developing Countries (LLDC)",
         "rawType": "float64",
         "type": "float"
        },
        {
         "name": "Laos",
         "rawType": "float64",
         "type": "float"
        },
        {
         "name": "Latin America and the Caribbean",
         "rawType": "float64",
         "type": "float"
        },
        {
         "name": "Latvia",
         "rawType": "float64",
         "type": "float"
        },
        {
         "name": "Least developed countries",
         "rawType": "float64",
         "type": "float"
        },
        {
         "name": "Lebanon",
         "rawType": "float64",
         "type": "float"
        },
        {
         "name": "Lesotho",
         "rawType": "float64",
         "type": "float"
        },
        {
         "name": "Less developed regions",
         "rawType": "float64",
         "type": "float"
        },
        {
         "name": "Less developed regions, excluding China",
         "rawType": "float64",
         "type": "float"
        },
        {
         "name": "Less developed regions, excluding least developed countries",
         "rawType": "float64",
         "type": "float"
        },
        {
         "name": "Liberia",
         "rawType": "float64",
         "type": "float"
        },
        {
         "name": "Libya",
         "rawType": "float64",
         "type": "float"
        },
        {
         "name": "Liechtenstein",
         "rawType": "float64",
         "type": "float"
        },
        {
         "name": "Lithuania",
         "rawType": "float64",
         "type": "float"
        },
        {
         "name": "Low-income countries",
         "rawType": "float64",
         "type": "float"
        },
        {
         "name": "Lower-middle-income countries",
         "rawType": "float64",
         "type": "float"
        },
        {
         "name": "Luxembourg",
         "rawType": "float64",
         "type": "float"
        },
        {
         "name": "Macao",
         "rawType": "float64",
         "type": "float"
        },
        {
         "name": "Madagascar",
         "rawType": "float64",
         "type": "float"
        },
        {
         "name": "Malawi",
         "rawType": "float64",
         "type": "float"
        },
        {
         "name": "Malaysia",
         "rawType": "float64",
         "type": "float"
        },
        {
         "name": "Maldives",
         "rawType": "float64",
         "type": "float"
        },
        {
         "name": "Mali",
         "rawType": "float64",
         "type": "float"
        },
        {
         "name": "Malta",
         "rawType": "float64",
         "type": "float"
        },
        {
         "name": "Marshall Islands",
         "rawType": "float64",
         "type": "float"
        },
        {
         "name": "Martinique",
         "rawType": "float64",
         "type": "float"
        },
        {
         "name": "Mauritania",
         "rawType": "float64",
         "type": "float"
        },
        {
         "name": "Mauritius",
         "rawType": "float64",
         "type": "float"
        },
        {
         "name": "Mayotte",
         "rawType": "float64",
         "type": "float"
        },
        {
         "name": "Mexico",
         "rawType": "float64",
         "type": "float"
        },
        {
         "name": "Micronesia (country)",
         "rawType": "float64",
         "type": "float"
        },
        {
         "name": "Middle-income countries",
         "rawType": "float64",
         "type": "float"
        },
        {
         "name": "Moldova",
         "rawType": "float64",
         "type": "float"
        },
        {
         "name": "Monaco",
         "rawType": "float64",
         "type": "float"
        },
        {
         "name": "Mongolia",
         "rawType": "float64",
         "type": "float"
        },
        {
         "name": "Montenegro",
         "rawType": "float64",
         "type": "float"
        },
        {
         "name": "Montserrat",
         "rawType": "float64",
         "type": "float"
        },
        {
         "name": "More developed regions",
         "rawType": "float64",
         "type": "float"
        },
        {
         "name": "Morocco",
         "rawType": "float64",
         "type": "float"
        },
        {
         "name": "Mozambique",
         "rawType": "float64",
         "type": "float"
        },
        {
         "name": "Myanmar",
         "rawType": "float64",
         "type": "float"
        },
        {
         "name": "Namibia",
         "rawType": "float64",
         "type": "float"
        },
        {
         "name": "Nauru",
         "rawType": "float64",
         "type": "float"
        },
        {
         "name": "Nepal",
         "rawType": "float64",
         "type": "float"
        },
        {
         "name": "Netherlands",
         "rawType": "float64",
         "type": "float"
        },
        {
         "name": "New Caledonia",
         "rawType": "float64",
         "type": "float"
        },
        {
         "name": "New Zealand",
         "rawType": "float64",
         "type": "float"
        },
        {
         "name": "Nicaragua",
         "rawType": "float64",
         "type": "float"
        },
        {
         "name": "Niger",
         "rawType": "float64",
         "type": "float"
        },
        {
         "name": "Nigeria",
         "rawType": "float64",
         "type": "float"
        },
        {
         "name": "Niue",
         "rawType": "float64",
         "type": "float"
        },
        {
         "name": "No income group available",
         "rawType": "float64",
         "type": "float"
        },
        {
         "name": "North Korea",
         "rawType": "float64",
         "type": "float"
        },
        {
         "name": "North Macedonia",
         "rawType": "float64",
         "type": "float"
        },
        {
         "name": "Northern America",
         "rawType": "float64",
         "type": "float"
        },
        {
         "name": "Northern Ireland",
         "rawType": "float64",
         "type": "float"
        },
        {
         "name": "Northern Mariana Islands",
         "rawType": "float64",
         "type": "float"
        },
        {
         "name": "Norway",
         "rawType": "float64",
         "type": "float"
        },
        {
         "name": "Oceania",
         "rawType": "float64",
         "type": "float"
        },
        {
         "name": "Oman",
         "rawType": "float64",
         "type": "float"
        },
        {
         "name": "Pakistan",
         "rawType": "float64",
         "type": "float"
        },
        {
         "name": "Palau",
         "rawType": "float64",
         "type": "float"
        },
        {
         "name": "Palestine",
         "rawType": "float64",
         "type": "float"
        },
        {
         "name": "Panama",
         "rawType": "float64",
         "type": "float"
        },
        {
         "name": "Papua New Guinea",
         "rawType": "float64",
         "type": "float"
        },
        {
         "name": "Paraguay",
         "rawType": "float64",
         "type": "float"
        },
        {
         "name": "Peru",
         "rawType": "float64",
         "type": "float"
        },
        {
         "name": "Philippines",
         "rawType": "float64",
         "type": "float"
        },
        {
         "name": "Poland",
         "rawType": "float64",
         "type": "float"
        },
        {
         "name": "Portugal",
         "rawType": "float64",
         "type": "float"
        },
        {
         "name": "Puerto Rico",
         "rawType": "float64",
         "type": "float"
        },
        {
         "name": "Qatar",
         "rawType": "float64",
         "type": "float"
        },
        {
         "name": "Reunion",
         "rawType": "float64",
         "type": "float"
        },
        {
         "name": "Romania",
         "rawType": "float64",
         "type": "float"
        },
        {
         "name": "Russia",
         "rawType": "float64",
         "type": "float"
        },
        {
         "name": "Rwanda",
         "rawType": "float64",
         "type": "float"
        },
        {
         "name": "Saint Barthelemy",
         "rawType": "float64",
         "type": "float"
        },
        {
         "name": "Saint Helena",
         "rawType": "float64",
         "type": "float"
        },
        {
         "name": "Saint Kitts and Nevis",
         "rawType": "float64",
         "type": "float"
        },
        {
         "name": "Saint Lucia",
         "rawType": "float64",
         "type": "float"
        },
        {
         "name": "Saint Martin (French part)",
         "rawType": "float64",
         "type": "float"
        },
        {
         "name": "Saint Pierre and Miquelon",
         "rawType": "float64",
         "type": "float"
        },
        {
         "name": "Saint Vincent and the Grenadines",
         "rawType": "float64",
         "type": "float"
        },
        {
         "name": "Samoa",
         "rawType": "float64",
         "type": "float"
        },
        {
         "name": "San Marino",
         "rawType": "float64",
         "type": "float"
        },
        {
         "name": "Sao Tome and Principe",
         "rawType": "float64",
         "type": "float"
        },
        {
         "name": "Saudi Arabia",
         "rawType": "float64",
         "type": "float"
        },
        {
         "name": "Scotland",
         "rawType": "float64",
         "type": "float"
        },
        {
         "name": "Senegal",
         "rawType": "float64",
         "type": "float"
        },
        {
         "name": "Serbia",
         "rawType": "float64",
         "type": "float"
        },
        {
         "name": "Seychelles",
         "rawType": "float64",
         "type": "float"
        },
        {
         "name": "Sierra Leone",
         "rawType": "float64",
         "type": "float"
        },
        {
         "name": "Singapore",
         "rawType": "float64",
         "type": "float"
        },
        {
         "name": "Sint Maarten (Dutch part)",
         "rawType": "float64",
         "type": "float"
        },
        {
         "name": "Slovakia",
         "rawType": "float64",
         "type": "float"
        },
        {
         "name": "Slovenia",
         "rawType": "float64",
         "type": "float"
        },
        {
         "name": "Small Island Developing States (SIDS)",
         "rawType": "float64",
         "type": "float"
        },
        {
         "name": "Solomon Islands",
         "rawType": "float64",
         "type": "float"
        },
        {
         "name": "Somalia",
         "rawType": "float64",
         "type": "float"
        },
        {
         "name": "South Africa",
         "rawType": "float64",
         "type": "float"
        },
        {
         "name": "South Korea",
         "rawType": "float64",
         "type": "float"
        },
        {
         "name": "South Sudan",
         "rawType": "float64",
         "type": "float"
        },
        {
         "name": "Spain",
         "rawType": "float64",
         "type": "float"
        },
        {
         "name": "Sri Lanka",
         "rawType": "float64",
         "type": "float"
        },
        {
         "name": "Sudan",
         "rawType": "float64",
         "type": "float"
        },
        {
         "name": "Suriname",
         "rawType": "float64",
         "type": "float"
        },
        {
         "name": "Sweden",
         "rawType": "float64",
         "type": "float"
        },
        {
         "name": "Switzerland",
         "rawType": "float64",
         "type": "float"
        },
        {
         "name": "Syria",
         "rawType": "float64",
         "type": "float"
        },
        {
         "name": "Taiwan",
         "rawType": "float64",
         "type": "float"
        },
        {
         "name": "Tajikistan",
         "rawType": "float64",
         "type": "float"
        },
        {
         "name": "Tanzania",
         "rawType": "float64",
         "type": "float"
        },
        {
         "name": "Thailand",
         "rawType": "float64",
         "type": "float"
        },
        {
         "name": "Togo",
         "rawType": "float64",
         "type": "float"
        },
        {
         "name": "Tokelau",
         "rawType": "float64",
         "type": "float"
        },
        {
         "name": "Tonga",
         "rawType": "float64",
         "type": "float"
        },
        {
         "name": "Trinidad and Tobago",
         "rawType": "float64",
         "type": "float"
        },
        {
         "name": "Tunisia",
         "rawType": "float64",
         "type": "float"
        },
        {
         "name": "Turkey",
         "rawType": "float64",
         "type": "float"
        },
        {
         "name": "Turkmenistan",
         "rawType": "float64",
         "type": "float"
        },
        {
         "name": "Turks and Caicos Islands",
         "rawType": "float64",
         "type": "float"
        },
        {
         "name": "Tuvalu",
         "rawType": "float64",
         "type": "float"
        },
        {
         "name": "USSR",
         "rawType": "float64",
         "type": "float"
        },
        {
         "name": "Uganda",
         "rawType": "float64",
         "type": "float"
        },
        {
         "name": "Ukraine",
         "rawType": "float64",
         "type": "float"
        },
        {
         "name": "United Arab Emirates",
         "rawType": "float64",
         "type": "float"
        },
        {
         "name": "United Kingdom",
         "rawType": "float64",
         "type": "float"
        },
        {
         "name": "United States",
         "rawType": "float64",
         "type": "float"
        },
        {
         "name": "United States Virgin Islands",
         "rawType": "float64",
         "type": "float"
        },
        {
         "name": "Upper-middle-income countries",
         "rawType": "float64",
         "type": "float"
        },
        {
         "name": "Uruguay",
         "rawType": "float64",
         "type": "float"
        },
        {
         "name": "Uzbekistan",
         "rawType": "float64",
         "type": "float"
        },
        {
         "name": "Vanuatu",
         "rawType": "float64",
         "type": "float"
        },
        {
         "name": "Venezuela",
         "rawType": "float64",
         "type": "float"
        },
        {
         "name": "Vietnam",
         "rawType": "float64",
         "type": "float"
        },
        {
         "name": "Wallis and Futuna",
         "rawType": "float64",
         "type": "float"
        },
        {
         "name": "Western Sahara",
         "rawType": "float64",
         "type": "float"
        },
        {
         "name": "World",
         "rawType": "float64",
         "type": "float"
        },
        {
         "name": "Yemen",
         "rawType": "float64",
         "type": "float"
        },
        {
         "name": "Zambia",
         "rawType": "float64",
         "type": "float"
        },
        {
         "name": "Zimbabwe",
         "rawType": "float64",
         "type": "float"
        }
       ],
       "conversionMethod": "pd.DataFrame",
       "ref": "badfdeb9-26b0-472b-b1be-f3e05a6165c0",
       "rows": [
        [
         "1543",
         null,
         null,
         null,
         null,
         null,
         null,
         null,
         null,
         null,
         null,
         null,
         null,
         null,
         null,
         null,
         null,
         null,
         null,
         null,
         null,
         null,
         null,
         null,
         null,
         null,
         null,
         null,
         null,
         null,
         null,
         null,
         null,
         null,
         null,
         null,
         null,
         null,
         null,
         null,
         null,
         null,
         null,
         null,
         null,
         null,
         null,
         null,
         null,
         null,
         null,
         null,
         null,
         null,
         null,
         null,
         null,
         null,
         null,
         null,
         null,
         null,
         null,
         null,
         null,
         null,
         null,
         null,
         null,
         null,
         null,
         null,
         null,
         null,
         null,
         null,
         null,
         null,
         null,
         null,
         null,
         null,
         null,
         null,
         null,
         null,
         null,
         null,
         null,
         null,
         null,
         null,
         null,
         null,
         null,
         null,
         null,
         null,
         null,
         null,
         null,
         null,
         null,
         null,
         null,
         null,
         null,
         null,
         null,
         null,
         null,
         null,
         null,
         null,
         null,
         null,
         null,
         null,
         null,
         null,
         null,
         null,
         null,
         null,
         null,
         null,
         null,
         null,
         null,
         null,
         null,
         null,
         null,
         null,
         null,
         null,
         null,
         null,
         null,
         null,
         null,
         null,
         null,
         null,
         null,
         null,
         null,
         null,
         null,
         null,
         null,
         null,
         null,
         null,
         null,
         null,
         null,
         null,
         null,
         null,
         null,
         null,
         null,
         null,
         null,
         null,
         null,
         null,
         null,
         null,
         null,
         null,
         null,
         null,
         null,
         null,
         null,
         null,
         null,
         null,
         null,
         null,
         null,
         null,
         null,
         null,
         null,
         null,
         null,
         null,
         null,
         null,
         null,
         null,
         null,
         null,
         null,
         null,
         null,
         null,
         null,
         null,
         null,
         null,
         null,
         null,
         null,
         null,
         null,
         null,
         null,
         null,
         null,
         null,
         null,
         null,
         null,
         null,
         null,
         null,
         null,
         null,
         null,
         null,
         null,
         null,
         null,
         null,
         null,
         null,
         null,
         null,
         null,
         null,
         null,
         null,
         null,
         null,
         null,
         null,
         null,
         null,
         null,
         null,
         null,
         null,
         null,
         "33.94",
         null,
         null,
         null,
         null,
         null,
         null,
         null,
         null,
         null,
         null,
         null,
         null,
         null,
         null
        ],
        [
         "1548",
         null,
         null,
         null,
         null,
         null,
         null,
         null,
         null,
         null,
         null,
         null,
         null,
         null,
         null,
         null,
         null,
         null,
         null,
         null,
         null,
         null,
         null,
         null,
         null,
         null,
         null,
         null,
         null,
         null,
         null,
         null,
         null,
         null,
         null,
         null,
         null,
         null,
         null,
         null,
         null,
         null,
         null,
         null,
         null,
         null,
         null,
         null,
         null,
         null,
         null,
         null,
         null,
         null,
         null,
         null,
         null,
         null,
         null,
         null,
         null,
         null,
         null,
         null,
         null,
         null,
         null,
         null,
         null,
         null,
         null,
         null,
         null,
         null,
         null,
         null,
         null,
         null,
         null,
         null,
         null,
         null,
         null,
         null,
         null,
         null,
         null,
         null,
         null,
         null,
         null,
         null,
         null,
         null,
         null,
         null,
         null,
         null,
         null,
         null,
         null,
         null,
         null,
         null,
         null,
         null,
         null,
         null,
         null,
         null,
         null,
         null,
         null,
         null,
         null,
         null,
         null,
         null,
         null,
         null,
         null,
         null,
         null,
         null,
         null,
         null,
         null,
         null,
         null,
         null,
         null,
         null,
         null,
         null,
         null,
         null,
         null,
         null,
         null,
         null,
         null,
         null,
         null,
         null,
         null,
         null,
         null,
         null,
         null,
         null,
         null,
         null,
         null,
         null,
         null,
         null,
         null,
         null,
         null,
         null,
         null,
         null,
         null,
         null,
         null,
         null,
         null,
         null,
         null,
         null,
         null,
         null,
         null,
         null,
         null,
         null,
         null,
         null,
         null,
         null,
         null,
         null,
         null,
         null,
         null,
         null,
         null,
         null,
         null,
         null,
         null,
         null,
         null,
         null,
         null,
         null,
         null,
         null,
         null,
         null,
         null,
         null,
         null,
         null,
         null,
         null,
         null,
         null,
         null,
         null,
         null,
         null,
         null,
         null,
         null,
         null,
         null,
         null,
         null,
         null,
         null,
         null,
         null,
         null,
         null,
         null,
         null,
         null,
         null,
         null,
         null,
         null,
         null,
         null,
         null,
         null,
         null,
         null,
         null,
         null,
         null,
         null,
         null,
         null,
         null,
         null,
         null,
         "38.82",
         null,
         null,
         null,
         null,
         null,
         null,
         null,
         null,
         null,
         null,
         null,
         null,
         null,
         null
        ],
        [
         "1553",
         null,
         null,
         null,
         null,
         null,
         null,
         null,
         null,
         null,
         null,
         null,
         null,
         null,
         null,
         null,
         null,
         null,
         null,
         null,
         null,
         null,
         null,
         null,
         null,
         null,
         null,
         null,
         null,
         null,
         null,
         null,
         null,
         null,
         null,
         null,
         null,
         null,
         null,
         null,
         null,
         null,
         null,
         null,
         null,
         null,
         null,
         null,
         null,
         null,
         null,
         null,
         null,
         null,
         null,
         null,
         null,
         null,
         null,
         null,
         null,
         null,
         null,
         null,
         null,
         null,
         null,
         null,
         null,
         null,
         null,
         null,
         null,
         null,
         null,
         null,
         null,
         null,
         null,
         null,
         null,
         null,
         null,
         null,
         null,
         null,
         null,
         null,
         null,
         null,
         null,
         null,
         null,
         null,
         null,
         null,
         null,
         null,
         null,
         null,
         null,
         null,
         null,
         null,
         null,
         null,
         null,
         null,
         null,
         null,
         null,
         null,
         null,
         null,
         null,
         null,
         null,
         null,
         null,
         null,
         null,
         null,
         null,
         null,
         null,
         null,
         null,
         null,
         null,
         null,
         null,
         null,
         null,
         null,
         null,
         null,
         null,
         null,
         null,
         null,
         null,
         null,
         null,
         null,
         null,
         null,
         null,
         null,
         null,
         null,
         null,
         null,
         null,
         null,
         null,
         null,
         null,
         null,
         null,
         null,
         null,
         null,
         null,
         null,
         null,
         null,
         null,
         null,
         null,
         null,
         null,
         null,
         null,
         null,
         null,
         null,
         null,
         null,
         null,
         null,
         null,
         null,
         null,
         null,
         null,
         null,
         null,
         null,
         null,
         null,
         null,
         null,
         null,
         null,
         null,
         null,
         null,
         null,
         null,
         null,
         null,
         null,
         null,
         null,
         null,
         null,
         null,
         null,
         null,
         null,
         null,
         null,
         null,
         null,
         null,
         null,
         null,
         null,
         null,
         null,
         null,
         null,
         null,
         null,
         null,
         null,
         null,
         null,
         null,
         null,
         null,
         null,
         null,
         null,
         null,
         null,
         null,
         null,
         null,
         null,
         null,
         null,
         null,
         null,
         null,
         null,
         null,
         "39.59",
         null,
         null,
         null,
         null,
         null,
         null,
         null,
         null,
         null,
         null,
         null,
         null,
         null,
         null
        ],
        [
         "1558",
         null,
         null,
         null,
         null,
         null,
         null,
         null,
         null,
         null,
         null,
         null,
         null,
         null,
         null,
         null,
         null,
         null,
         null,
         null,
         null,
         null,
         null,
         null,
         null,
         null,
         null,
         null,
         null,
         null,
         null,
         null,
         null,
         null,
         null,
         null,
         null,
         null,
         null,
         null,
         null,
         null,
         null,
         null,
         null,
         null,
         null,
         null,
         null,
         null,
         null,
         null,
         null,
         null,
         null,
         null,
         null,
         null,
         null,
         null,
         null,
         null,
         null,
         null,
         null,
         null,
         null,
         null,
         null,
         null,
         null,
         null,
         null,
         null,
         null,
         null,
         null,
         null,
         null,
         null,
         null,
         null,
         null,
         null,
         null,
         null,
         null,
         null,
         null,
         null,
         null,
         null,
         null,
         null,
         null,
         null,
         null,
         null,
         null,
         null,
         null,
         null,
         null,
         null,
         null,
         null,
         null,
         null,
         null,
         null,
         null,
         null,
         null,
         null,
         null,
         null,
         null,
         null,
         null,
         null,
         null,
         null,
         null,
         null,
         null,
         null,
         null,
         null,
         null,
         null,
         null,
         null,
         null,
         null,
         null,
         null,
         null,
         null,
         null,
         null,
         null,
         null,
         null,
         null,
         null,
         null,
         null,
         null,
         null,
         null,
         null,
         null,
         null,
         null,
         null,
         null,
         null,
         null,
         null,
         null,
         null,
         null,
         null,
         null,
         null,
         null,
         null,
         null,
         null,
         null,
         null,
         null,
         null,
         null,
         null,
         null,
         null,
         null,
         null,
         null,
         null,
         null,
         null,
         null,
         null,
         null,
         null,
         null,
         null,
         null,
         null,
         null,
         null,
         null,
         null,
         null,
         null,
         null,
         null,
         null,
         null,
         null,
         null,
         null,
         null,
         null,
         null,
         null,
         null,
         null,
         null,
         null,
         null,
         null,
         null,
         null,
         null,
         null,
         null,
         null,
         null,
         null,
         null,
         null,
         null,
         null,
         null,
         null,
         null,
         null,
         null,
         null,
         null,
         null,
         null,
         null,
         null,
         null,
         null,
         null,
         null,
         null,
         null,
         null,
         null,
         null,
         null,
         "22.38",
         null,
         null,
         null,
         null,
         null,
         null,
         null,
         null,
         null,
         null,
         null,
         null,
         null,
         null
        ],
        [
         "1563",
         null,
         null,
         null,
         null,
         null,
         null,
         null,
         null,
         null,
         null,
         null,
         null,
         null,
         null,
         null,
         null,
         null,
         null,
         null,
         null,
         null,
         null,
         null,
         null,
         null,
         null,
         null,
         null,
         null,
         null,
         null,
         null,
         null,
         null,
         null,
         null,
         null,
         null,
         null,
         null,
         null,
         null,
         null,
         null,
         null,
         null,
         null,
         null,
         null,
         null,
         null,
         null,
         null,
         null,
         null,
         null,
         null,
         null,
         null,
         null,
         null,
         null,
         null,
         null,
         null,
         null,
         null,
         null,
         null,
         null,
         null,
         null,
         null,
         null,
         null,
         null,
         null,
         null,
         null,
         null,
         null,
         null,
         null,
         null,
         null,
         null,
         null,
         null,
         null,
         null,
         null,
         null,
         null,
         null,
         null,
         null,
         null,
         null,
         null,
         null,
         null,
         null,
         null,
         null,
         null,
         null,
         null,
         null,
         null,
         null,
         null,
         null,
         null,
         null,
         null,
         null,
         null,
         null,
         null,
         null,
         null,
         null,
         null,
         null,
         null,
         null,
         null,
         null,
         null,
         null,
         null,
         null,
         null,
         null,
         null,
         null,
         null,
         null,
         null,
         null,
         null,
         null,
         null,
         null,
         null,
         null,
         null,
         null,
         null,
         null,
         null,
         null,
         null,
         null,
         null,
         null,
         null,
         null,
         null,
         null,
         null,
         null,
         null,
         null,
         null,
         null,
         null,
         null,
         null,
         null,
         null,
         null,
         null,
         null,
         null,
         null,
         null,
         null,
         null,
         null,
         null,
         null,
         null,
         null,
         null,
         null,
         null,
         null,
         null,
         null,
         null,
         null,
         null,
         null,
         null,
         null,
         null,
         null,
         null,
         null,
         null,
         null,
         null,
         null,
         null,
         null,
         null,
         null,
         null,
         null,
         null,
         null,
         null,
         null,
         null,
         null,
         null,
         null,
         null,
         null,
         null,
         null,
         null,
         null,
         null,
         null,
         null,
         null,
         null,
         null,
         null,
         null,
         null,
         null,
         null,
         null,
         null,
         null,
         null,
         null,
         null,
         null,
         null,
         null,
         null,
         null,
         "36.66",
         null,
         null,
         null,
         null,
         null,
         null,
         null,
         null,
         null,
         null,
         null,
         null,
         null,
         null
        ]
       ],
       "shape": {
        "columns": 261,
        "rows": 5
       }
      },
      "text/html": [
       "<div>\n",
       "<style scoped>\n",
       "    .dataframe tbody tr th:only-of-type {\n",
       "        vertical-align: middle;\n",
       "    }\n",
       "\n",
       "    .dataframe tbody tr th {\n",
       "        vertical-align: top;\n",
       "    }\n",
       "\n",
       "    .dataframe thead th {\n",
       "        text-align: right;\n",
       "    }\n",
       "</style>\n",
       "<table border=\"1\" class=\"dataframe\">\n",
       "  <thead>\n",
       "    <tr style=\"text-align: right;\">\n",
       "      <th>Entity</th>\n",
       "      <th>Afghanistan</th>\n",
       "      <th>Africa</th>\n",
       "      <th>Albania</th>\n",
       "      <th>Algeria</th>\n",
       "      <th>American Samoa</th>\n",
       "      <th>Americas</th>\n",
       "      <th>Andorra</th>\n",
       "      <th>Angola</th>\n",
       "      <th>Anguilla</th>\n",
       "      <th>Antigua and Barbuda</th>\n",
       "      <th>...</th>\n",
       "      <th>Uzbekistan</th>\n",
       "      <th>Vanuatu</th>\n",
       "      <th>Venezuela</th>\n",
       "      <th>Vietnam</th>\n",
       "      <th>Wallis and Futuna</th>\n",
       "      <th>Western Sahara</th>\n",
       "      <th>World</th>\n",
       "      <th>Yemen</th>\n",
       "      <th>Zambia</th>\n",
       "      <th>Zimbabwe</th>\n",
       "    </tr>\n",
       "    <tr>\n",
       "      <th>Year</th>\n",
       "      <th></th>\n",
       "      <th></th>\n",
       "      <th></th>\n",
       "      <th></th>\n",
       "      <th></th>\n",
       "      <th></th>\n",
       "      <th></th>\n",
       "      <th></th>\n",
       "      <th></th>\n",
       "      <th></th>\n",
       "      <th></th>\n",
       "      <th></th>\n",
       "      <th></th>\n",
       "      <th></th>\n",
       "      <th></th>\n",
       "      <th></th>\n",
       "      <th></th>\n",
       "      <th></th>\n",
       "      <th></th>\n",
       "      <th></th>\n",
       "      <th></th>\n",
       "    </tr>\n",
       "  </thead>\n",
       "  <tbody>\n",
       "    <tr>\n",
       "      <th>1543</th>\n",
       "      <td>NaN</td>\n",
       "      <td>NaN</td>\n",
       "      <td>NaN</td>\n",
       "      <td>NaN</td>\n",
       "      <td>NaN</td>\n",
       "      <td>NaN</td>\n",
       "      <td>NaN</td>\n",
       "      <td>NaN</td>\n",
       "      <td>NaN</td>\n",
       "      <td>NaN</td>\n",
       "      <td>...</td>\n",
       "      <td>NaN</td>\n",
       "      <td>NaN</td>\n",
       "      <td>NaN</td>\n",
       "      <td>NaN</td>\n",
       "      <td>NaN</td>\n",
       "      <td>NaN</td>\n",
       "      <td>NaN</td>\n",
       "      <td>NaN</td>\n",
       "      <td>NaN</td>\n",
       "      <td>NaN</td>\n",
       "    </tr>\n",
       "    <tr>\n",
       "      <th>1548</th>\n",
       "      <td>NaN</td>\n",
       "      <td>NaN</td>\n",
       "      <td>NaN</td>\n",
       "      <td>NaN</td>\n",
       "      <td>NaN</td>\n",
       "      <td>NaN</td>\n",
       "      <td>NaN</td>\n",
       "      <td>NaN</td>\n",
       "      <td>NaN</td>\n",
       "      <td>NaN</td>\n",
       "      <td>...</td>\n",
       "      <td>NaN</td>\n",
       "      <td>NaN</td>\n",
       "      <td>NaN</td>\n",
       "      <td>NaN</td>\n",
       "      <td>NaN</td>\n",
       "      <td>NaN</td>\n",
       "      <td>NaN</td>\n",
       "      <td>NaN</td>\n",
       "      <td>NaN</td>\n",
       "      <td>NaN</td>\n",
       "    </tr>\n",
       "    <tr>\n",
       "      <th>1553</th>\n",
       "      <td>NaN</td>\n",
       "      <td>NaN</td>\n",
       "      <td>NaN</td>\n",
       "      <td>NaN</td>\n",
       "      <td>NaN</td>\n",
       "      <td>NaN</td>\n",
       "      <td>NaN</td>\n",
       "      <td>NaN</td>\n",
       "      <td>NaN</td>\n",
       "      <td>NaN</td>\n",
       "      <td>...</td>\n",
       "      <td>NaN</td>\n",
       "      <td>NaN</td>\n",
       "      <td>NaN</td>\n",
       "      <td>NaN</td>\n",
       "      <td>NaN</td>\n",
       "      <td>NaN</td>\n",
       "      <td>NaN</td>\n",
       "      <td>NaN</td>\n",
       "      <td>NaN</td>\n",
       "      <td>NaN</td>\n",
       "    </tr>\n",
       "    <tr>\n",
       "      <th>1558</th>\n",
       "      <td>NaN</td>\n",
       "      <td>NaN</td>\n",
       "      <td>NaN</td>\n",
       "      <td>NaN</td>\n",
       "      <td>NaN</td>\n",
       "      <td>NaN</td>\n",
       "      <td>NaN</td>\n",
       "      <td>NaN</td>\n",
       "      <td>NaN</td>\n",
       "      <td>NaN</td>\n",
       "      <td>...</td>\n",
       "      <td>NaN</td>\n",
       "      <td>NaN</td>\n",
       "      <td>NaN</td>\n",
       "      <td>NaN</td>\n",
       "      <td>NaN</td>\n",
       "      <td>NaN</td>\n",
       "      <td>NaN</td>\n",
       "      <td>NaN</td>\n",
       "      <td>NaN</td>\n",
       "      <td>NaN</td>\n",
       "    </tr>\n",
       "    <tr>\n",
       "      <th>1563</th>\n",
       "      <td>NaN</td>\n",
       "      <td>NaN</td>\n",
       "      <td>NaN</td>\n",
       "      <td>NaN</td>\n",
       "      <td>NaN</td>\n",
       "      <td>NaN</td>\n",
       "      <td>NaN</td>\n",
       "      <td>NaN</td>\n",
       "      <td>NaN</td>\n",
       "      <td>NaN</td>\n",
       "      <td>...</td>\n",
       "      <td>NaN</td>\n",
       "      <td>NaN</td>\n",
       "      <td>NaN</td>\n",
       "      <td>NaN</td>\n",
       "      <td>NaN</td>\n",
       "      <td>NaN</td>\n",
       "      <td>NaN</td>\n",
       "      <td>NaN</td>\n",
       "      <td>NaN</td>\n",
       "      <td>NaN</td>\n",
       "    </tr>\n",
       "  </tbody>\n",
       "</table>\n",
       "<p>5 rows × 261 columns</p>\n",
       "</div>"
      ],
      "text/plain": [
       "Entity  Afghanistan  Africa  Albania  Algeria  American Samoa  Americas  \\\n",
       "Year                                                                      \n",
       "1543            NaN     NaN      NaN      NaN             NaN       NaN   \n",
       "1548            NaN     NaN      NaN      NaN             NaN       NaN   \n",
       "1553            NaN     NaN      NaN      NaN             NaN       NaN   \n",
       "1558            NaN     NaN      NaN      NaN             NaN       NaN   \n",
       "1563            NaN     NaN      NaN      NaN             NaN       NaN   \n",
       "\n",
       "Entity  Andorra  Angola  Anguilla  Antigua and Barbuda  ...  Uzbekistan  \\\n",
       "Year                                                    ...               \n",
       "1543        NaN     NaN       NaN                  NaN  ...         NaN   \n",
       "1548        NaN     NaN       NaN                  NaN  ...         NaN   \n",
       "1553        NaN     NaN       NaN                  NaN  ...         NaN   \n",
       "1558        NaN     NaN       NaN                  NaN  ...         NaN   \n",
       "1563        NaN     NaN       NaN                  NaN  ...         NaN   \n",
       "\n",
       "Entity  Vanuatu  Venezuela  Vietnam  Wallis and Futuna  Western Sahara  World  \\\n",
       "Year                                                                            \n",
       "1543        NaN        NaN      NaN                NaN             NaN    NaN   \n",
       "1548        NaN        NaN      NaN                NaN             NaN    NaN   \n",
       "1553        NaN        NaN      NaN                NaN             NaN    NaN   \n",
       "1558        NaN        NaN      NaN                NaN             NaN    NaN   \n",
       "1563        NaN        NaN      NaN                NaN             NaN    NaN   \n",
       "\n",
       "Entity  Yemen  Zambia  Zimbabwe  \n",
       "Year                             \n",
       "1543      NaN     NaN       NaN  \n",
       "1548      NaN     NaN       NaN  \n",
       "1553      NaN     NaN       NaN  \n",
       "1558      NaN     NaN       NaN  \n",
       "1563      NaN     NaN       NaN  \n",
       "\n",
       "[5 rows x 261 columns]"
      ]
     },
     "execution_count": 129,
     "metadata": {},
     "output_type": "execute_result"
    }
   ],
   "source": [
    "df_pivot=df.pivot(index=\"Year\",columns=\"Entity\",values=\"LifeExpectancy\")\n",
    "df_pivot.head()"
   ]
  },
  {
   "cell_type": "code",
   "execution_count": 130,
   "metadata": {},
   "outputs": [
    {
     "data": {
      "text/plain": [
       "<Axes: xlabel='Year'>"
      ]
     },
     "execution_count": 130,
     "metadata": {},
     "output_type": "execute_result"
    },
    {
     "data": {
      "image/png": "[encoded data removed]",
      "text/plain": [
       "<Figure size 640x480 with 1 Axes>"
      ]
     },
     "metadata": {},
     "output_type": "display_data"
    }
   ],
   "source": [
    "df_pivot.plot(legend=False)"
   ]
  },
  {
   "cell_type": "markdown",
   "metadata": {},
   "source": [
    "What we can observe\n",
    "- from this is Only two countries has data between late 1960 and around 1850. \n",
    "- How we can now which countries are they?\n",
    "- Most Probably those who have less null values after pivoting,right?  Good let's check.\n"
   ]
  },
  {
   "cell_type": "code",
   "execution_count": 131,
   "metadata": {},
   "outputs": [
    {
     "data": {
      "text/plain": [
       "Entity\n",
       "Sweden             42\n",
       "United Kingdom     73\n",
       "France            107\n",
       "Denmark           125\n",
       "Iceland           129\n",
       "dtype: int64"
      ]
     },
     "execution_count": 131,
     "metadata": {},
     "output_type": "execute_result"
    }
   ],
   "source": [
    "df_pivot.isna().sum().sort_values().head()"
   ]
  },
  {
   "cell_type": "code",
   "execution_count": 132,
   "metadata": {},
   "outputs": [
    {
     "data": {
      "text/plain": [
       "<Axes: xlabel='Year'>"
      ]
     },
     "execution_count": 132,
     "metadata": {},
     "output_type": "execute_result"
    },
    {
     "data": {
      "image/png": "[encoded data removed]",
      "text/plain": [
       "<Figure size 640x480 with 1 Axes>"
      ]
     },
     "metadata": {},
     "output_type": "display_data"
    }
   ],
   "source": [
    "df_pivot[\"Sweden\"].plot()\n",
    "df_pivot[\"United Kingdom\"].plot()"
   ]
  },
  {
   "cell_type": "markdown",
   "metadata": {},
   "source": [
    "Yes! Good."
   ]
  },
  {
   "cell_type": "markdown",
   "metadata": {},
   "source": [
    "- And Most countries has data starting from 1900s.\n",
    "- Now Let's check which country has less data in our data set.\n"
   ]
  },
  {
   "cell_type": "code",
   "execution_count": 133,
   "metadata": {},
   "outputs": [
    {
     "data": {
      "application/vnd.microsoft.datawrangler.viewer.v0+json": {
       "columns": [
        {
         "name": "index",
         "rawType": "int64",
         "type": "integer"
        },
        {
         "name": "Country",
         "rawType": "object",
         "type": "string"
        },
        {
         "name": "count",
         "rawType": "int64",
         "type": "integer"
        }
       ],
       "conversionMethod": "pd.DataFrame",
       "ref": "38908fb8-9bef-4b91-ae7f-d52a5043cfd8",
       "rows": [
        [
         "0",
         "USSR",
         "6"
        ],
        [
         "1",
         "Northern Ireland",
         "56"
        ],
        [
         "2",
         "Northern America",
         "144"
        ],
        [
         "3",
         "Small Island Developing States (SIDS)",
         "144"
        ],
        [
         "4",
         "More developed regions",
         "144"
        ]
       ],
       "shape": {
        "columns": 2,
        "rows": 5
       }
      },
      "text/html": [
       "<div>\n",
       "<style scoped>\n",
       "    .dataframe tbody tr th:only-of-type {\n",
       "        vertical-align: middle;\n",
       "    }\n",
       "\n",
       "    .dataframe tbody tr th {\n",
       "        vertical-align: top;\n",
       "    }\n",
       "\n",
       "    .dataframe thead th {\n",
       "        text-align: right;\n",
       "    }\n",
       "</style>\n",
       "<table border=\"1\" class=\"dataframe\">\n",
       "  <thead>\n",
       "    <tr style=\"text-align: right;\">\n",
       "      <th></th>\n",
       "      <th>Country</th>\n",
       "      <th>count</th>\n",
       "    </tr>\n",
       "  </thead>\n",
       "  <tbody>\n",
       "    <tr>\n",
       "      <th>0</th>\n",
       "      <td>USSR</td>\n",
       "      <td>6</td>\n",
       "    </tr>\n",
       "    <tr>\n",
       "      <th>1</th>\n",
       "      <td>Northern Ireland</td>\n",
       "      <td>56</td>\n",
       "    </tr>\n",
       "    <tr>\n",
       "      <th>2</th>\n",
       "      <td>Northern America</td>\n",
       "      <td>144</td>\n",
       "    </tr>\n",
       "    <tr>\n",
       "      <th>3</th>\n",
       "      <td>Small Island Developing States (SIDS)</td>\n",
       "      <td>144</td>\n",
       "    </tr>\n",
       "    <tr>\n",
       "      <th>4</th>\n",
       "      <td>More developed regions</td>\n",
       "      <td>144</td>\n",
       "    </tr>\n",
       "  </tbody>\n",
       "</table>\n",
       "</div>"
      ],
      "text/plain": [
       "                                 Country  count\n",
       "0                                   USSR      6\n",
       "1                       Northern Ireland     56\n",
       "2                       Northern America    144\n",
       "3  Small Island Developing States (SIDS)    144\n",
       "4                 More developed regions    144"
      ]
     },
     "execution_count": 133,
     "metadata": {},
     "output_type": "execute_result"
    }
   ],
   "source": [
    "result = df.groupby(\"Entity\").count().sum(axis=1).sort_values()\n",
    "df_result=pd.DataFrame(result)\n",
    "df_result.reset_index(inplace=True)\n",
    "df_result.columns=[\"Country\",\"count\"]\n",
    "df_result.head()\n"
   ]
  },
  {
   "cell_type": "markdown",
   "metadata": {},
   "source": [
    "USSR fellowed by Northern Ireland, Northern America....has very few data. Especially USSR."
   ]
  },
  {
   "cell_type": "code",
   "execution_count": 134,
   "metadata": {},
   "outputs": [
    {
     "data": {
      "application/vnd.microsoft.datawrangler.viewer.v0+json": {
       "columns": [
        {
         "name": "index",
         "rawType": "object",
         "type": "string"
        },
        {
         "name": "count",
         "rawType": "float64",
         "type": "float"
        }
       ],
       "conversionMethod": "pd.DataFrame",
       "ref": "a1372316-b66b-4c64-82cf-1e2969876688",
       "rows": [
        [
         "count",
         "261.0"
        ],
        [
         "mean",
         "232.0727969348659"
        ],
        [
         "std",
         "81.92716316850824"
        ],
        [
         "min",
         "6.0"
        ],
        [
         "25%",
         "216.0"
        ],
        [
         "50%",
         "216.0"
        ],
        [
         "75%",
         "225.0"
        ],
        [
         "max",
         "813.0"
        ]
       ],
       "shape": {
        "columns": 1,
        "rows": 8
       }
      },
      "text/html": [
       "<div>\n",
       "<style scoped>\n",
       "    .dataframe tbody tr th:only-of-type {\n",
       "        vertical-align: middle;\n",
       "    }\n",
       "\n",
       "    .dataframe tbody tr th {\n",
       "        vertical-align: top;\n",
       "    }\n",
       "\n",
       "    .dataframe thead th {\n",
       "        text-align: right;\n",
       "    }\n",
       "</style>\n",
       "<table border=\"1\" class=\"dataframe\">\n",
       "  <thead>\n",
       "    <tr style=\"text-align: right;\">\n",
       "      <th></th>\n",
       "      <th>count</th>\n",
       "    </tr>\n",
       "  </thead>\n",
       "  <tbody>\n",
       "    <tr>\n",
       "      <th>count</th>\n",
       "      <td>261.000000</td>\n",
       "    </tr>\n",
       "    <tr>\n",
       "      <th>mean</th>\n",
       "      <td>232.072797</td>\n",
       "    </tr>\n",
       "    <tr>\n",
       "      <th>std</th>\n",
       "      <td>81.927163</td>\n",
       "    </tr>\n",
       "    <tr>\n",
       "      <th>min</th>\n",
       "      <td>6.000000</td>\n",
       "    </tr>\n",
       "    <tr>\n",
       "      <th>25%</th>\n",
       "      <td>216.000000</td>\n",
       "    </tr>\n",
       "    <tr>\n",
       "      <th>50%</th>\n",
       "      <td>216.000000</td>\n",
       "    </tr>\n",
       "    <tr>\n",
       "      <th>75%</th>\n",
       "      <td>225.000000</td>\n",
       "    </tr>\n",
       "    <tr>\n",
       "      <th>max</th>\n",
       "      <td>813.000000</td>\n",
       "    </tr>\n",
       "  </tbody>\n",
       "</table>\n",
       "</div>"
      ],
      "text/plain": [
       "            count\n",
       "count  261.000000\n",
       "mean   232.072797\n",
       "std     81.927163\n",
       "min      6.000000\n",
       "25%    216.000000\n",
       "50%    216.000000\n",
       "75%    225.000000\n",
       "max    813.000000"
      ]
     },
     "execution_count": 134,
     "metadata": {},
     "output_type": "execute_result"
    }
   ],
   "source": [
    "df_result.describe()"
   ]
  },
  {
   "cell_type": "code",
   "execution_count": 135,
   "metadata": {},
   "outputs": [
    {
     "data": {
      "image/png": "[encoded data removed]",
      "text/plain": [
       "<Figure size 640x480 with 1 Axes>"
      ]
     },
     "metadata": {},
     "output_type": "display_data"
    }
   ],
   "source": [
    "import matplotlib.pyplot as plt\n",
    "\n",
    "df[\"Year\"].hist(bins=50)  # Adjust bins as needed\n",
    "plt.xlabel(\"Year\")\n",
    "plt.ylabel(\"Frequency\")\n",
    "plt.title(\"Distribution of Years\")\n",
    "plt.show()"
   ]
  },
  {
   "cell_type": "code",
   "execution_count": null,
   "metadata": {},
   "outputs": [
    {
     "name": "stdout",
     "output_type": "stream",
     "text": [
      "Most frequent data starts around: 1950\n"
     ]
    }
   ],
   "source": [
    "# Define bins for years\n",
    "bins = np.arange(1900, 2021, 5)  # Adjust bin size as needed\n",
    "\n",
    "# Get histogram values\n",
    "counts, bin_edges = np.histogram(df[\"Year\"], bins=bins)\n",
    "\n",
    "# Find the first bin where frequency significantly increases\n",
    "threshold = max(counts) * 0.2  # Example: 10% of max frequency as a threshold\n",
    "start_year = bin_edges[np.where(counts > threshold)[0][0]]\n",
    "\n",
    "print(f\"Most frequent data starts around: {start_year}\")\n"
   ]
  },
  {
   "cell_type": "code",
   "execution_count": null,
   "metadata": {},
   "outputs": [
    {
     "data": {
      "image/png": "[encoded data removed]",
      "text/plain": [
       "<Figure size 640x480 with 1 Axes>"
      ]
     },
     "metadata": {},
     "output_type": "display_data"
    }
   ],
   "source": [
    "\n",
    "# Filter the dataframe for Year > 1940\n",
    "df_ctr_f = df[df[\"Year\"] > 1950]\n",
    "\n",
    "# Plot histogram\n",
    "df_ctr_f[\"Year\"].hist(bins=20)\n",
    "plt.xlabel(\"Year\")\n",
    "plt.ylabel(\"Frequency\")\n",
    "plt.title(\"Distribution of Years (Year > 1949)\")\n",
    "plt.show()\n"
   ]
  },
  {
   "cell_type": "markdown",
   "metadata": {},
   "source": [
    "ehm Good.\n",
    "- Now it is okay to comparison. "
   ]
  },
  {
   "cell_type": "markdown",
   "metadata": {},
   "source": [
    "Exmaple"
   ]
  },
  {
   "cell_type": "code",
   "execution_count": 139,
   "metadata": {},
   "outputs": [
    {
     "data": {
      "application/vnd.microsoft.datawrangler.viewer.v0+json": {
       "columns": [
        {
         "name": "Year",
         "rawType": "int64",
         "type": "integer"
        },
        {
         "name": "Kenya",
         "rawType": "float64",
         "type": "float"
        },
        {
         "name": "Namibia",
         "rawType": "float64",
         "type": "float"
        },
        {
         "name": "Nigeria",
         "rawType": "float64",
         "type": "float"
        },
        {
         "name": "South Africa",
         "rawType": "float64",
         "type": "float"
        },
        {
         "name": "United Kingdom",
         "rawType": "float64",
         "type": "float"
        }
       ],
       "conversionMethod": "pd.DataFrame",
       "ref": "00c26230-5fab-42a3-9790-3f4b1e109413",
       "rows": [
        [
         "1950",
         "38.9024",
         "41.5307",
         "35.8097",
         "43.4715",
         "68.631"
        ],
        [
         "1951",
         "39.0919",
         "41.7739",
         "35.9247",
         "44.1756",
         "68.2352"
        ],
        [
         "1952",
         "38.9473",
         "42.3996",
         "36.0935",
         "45.0614",
         "69.5176"
        ],
        [
         "1953",
         "40.3157",
         "43.0004",
         "36.3435",
         "46.0056",
         "69.7967"
        ],
        [
         "1954",
         "41.6892",
         "43.684",
         "36.4453",
         "47.1206",
         "70.1646"
        ]
       ],
       "shape": {
        "columns": 5,
        "rows": 5
       }
      },
      "text/html": [
       "<div>\n",
       "<style scoped>\n",
       "    .dataframe tbody tr th:only-of-type {\n",
       "        vertical-align: middle;\n",
       "    }\n",
       "\n",
       "    .dataframe tbody tr th {\n",
       "        vertical-align: top;\n",
       "    }\n",
       "\n",
       "    .dataframe thead th {\n",
       "        text-align: right;\n",
       "    }\n",
       "</style>\n",
       "<table border=\"1\" class=\"dataframe\">\n",
       "  <thead>\n",
       "    <tr style=\"text-align: right;\">\n",
       "      <th>Entity</th>\n",
       "      <th>Kenya</th>\n",
       "      <th>Namibia</th>\n",
       "      <th>Nigeria</th>\n",
       "      <th>South Africa</th>\n",
       "      <th>United Kingdom</th>\n",
       "    </tr>\n",
       "    <tr>\n",
       "      <th>Year</th>\n",
       "      <th></th>\n",
       "      <th></th>\n",
       "      <th></th>\n",
       "      <th></th>\n",
       "      <th></th>\n",
       "    </tr>\n",
       "  </thead>\n",
       "  <tbody>\n",
       "    <tr>\n",
       "      <th>1950</th>\n",
       "      <td>38.9024</td>\n",
       "      <td>41.5307</td>\n",
       "      <td>35.8097</td>\n",
       "      <td>43.4715</td>\n",
       "      <td>68.6310</td>\n",
       "    </tr>\n",
       "    <tr>\n",
       "      <th>1951</th>\n",
       "      <td>39.0919</td>\n",
       "      <td>41.7739</td>\n",
       "      <td>35.9247</td>\n",
       "      <td>44.1756</td>\n",
       "      <td>68.2352</td>\n",
       "    </tr>\n",
       "    <tr>\n",
       "      <th>1952</th>\n",
       "      <td>38.9473</td>\n",
       "      <td>42.3996</td>\n",
       "      <td>36.0935</td>\n",
       "      <td>45.0614</td>\n",
       "      <td>69.5176</td>\n",
       "    </tr>\n",
       "    <tr>\n",
       "      <th>1953</th>\n",
       "      <td>40.3157</td>\n",
       "      <td>43.0004</td>\n",
       "      <td>36.3435</td>\n",
       "      <td>46.0056</td>\n",
       "      <td>69.7967</td>\n",
       "    </tr>\n",
       "    <tr>\n",
       "      <th>1954</th>\n",
       "      <td>41.6892</td>\n",
       "      <td>43.6840</td>\n",
       "      <td>36.4453</td>\n",
       "      <td>47.1206</td>\n",
       "      <td>70.1646</td>\n",
       "    </tr>\n",
       "  </tbody>\n",
       "</table>\n",
       "</div>"
      ],
      "text/plain": [
       "Entity    Kenya  Namibia  Nigeria  South Africa  United Kingdom\n",
       "Year                                                           \n",
       "1950    38.9024  41.5307  35.8097       43.4715         68.6310\n",
       "1951    39.0919  41.7739  35.9247       44.1756         68.2352\n",
       "1952    38.9473  42.3996  36.0935       45.0614         69.5176\n",
       "1953    40.3157  43.0004  36.3435       46.0056         69.7967\n",
       "1954    41.6892  43.6840  36.4453       47.1206         70.1646"
      ]
     },
     "execution_count": 139,
     "metadata": {},
     "output_type": "execute_result"
    }
   ],
   "source": [
    "countries = [\"United Kingdom\", \"Namibia\", \"South Africa\", \"Nigeria\", \"Kenya\"]\n",
    "df_ctr_f = df.query('Entity == @countries & Year > 1949').pivot(index='Year', columns='Entity', values='LifeExpectancy')\n",
    "df_ctr_f.head()"
   ]
  },
  {
   "cell_type": "code",
   "execution_count": 140,
   "metadata": {},
   "outputs": [
    {
     "data": {
      "text/plain": [
       "Text(0.5, 1.0, 'Life Expectancy in Selected Countries (Year > 1949)')"
      ]
     },
     "execution_count": 140,
     "metadata": {},
     "output_type": "execute_result"
    },
    {
     "data": {
      "image/png": "[encoded data removed]",
      "text/plain": [
       "<Figure size 1000x500 with 1 Axes>"
      ]
     },
     "metadata": {},
     "output_type": "display_data"
    }
   ],
   "source": [
    "df_ctr_f.plot(legend=True, figsize=(10, 5))\n",
    "plt.title(\"Life Expectancy in Selected Countries (Year > 1949)\")"
   ]
  },
  {
   "cell_type": "code",
   "execution_count": null,
   "metadata": {},
   "outputs": [],
   "source": []
  },
  {
   "cell_type": "markdown",
   "metadata": {},
   "source": [
    "##### Adding Reference lines"
   ]
  },
  {
   "cell_type": "code",
   "execution_count": 141,
   "metadata": {},
   "outputs": [
    {
     "data": {
      "text/plain": [
       "<matplotlib.lines.Line2D at 0x1a896a0e710>"
      ]
     },
     "execution_count": 141,
     "metadata": {},
     "output_type": "execute_result"
    },
    {
     "data": {
      "image/png": "[encoded data removed]",
      "text/plain": [
       "<Figure size 1200x600 with 1 Axes>"
      ]
     },
     "metadata": {},
     "output_type": "display_data"
    }
   ],
   "source": [
    "df_ctr_f = df_ctr_f.plot(title=\"Life Expectancy\", ylabel=\"Life Expectancy (Years)\", fontsize=8, figsize=(12, 6))\n",
    "df_ctr_f.grid(color='#eee', linestyle='--', linewidth=0.5)\n",
    "df_ctr_f.set_facecolor('#fefefe')\n",
    "df_ctr_f.axvline(x=2002, color='#333', linestyle='--', linewidth=0.8)\n",
    "df_ctr_f.axhline(y=55, color='#333', linestyle='--', linewidth=0.8)"
   ]
  },
  {
   "cell_type": "markdown",
   "metadata": {},
   "source": [
    "#### Summary of Life Expectancy Trends:\n",
    "Kenya, Namibia and South Africa.\n",
    "\n",
    "- 📉 2000–2005: Life expectancy declined due to HIV/AIDS.\n",
    "- 📈 2005–2015: Recovery due to ART and healthcare improvements.\n",
    "- 📊 2015–2020: Gradual growth, with a temporary COVID-19 decline in 2020."
   ]
  },
  {
   "cell_type": "code",
   "execution_count": 125,
   "metadata": {},
   "outputs": [
    {
     "data": {
      "text/plain": [
       "count    20755.000000\n",
       "mean        61.617992\n",
       "std         12.917682\n",
       "min         11.995100\n",
       "25%         52.185850\n",
       "50%         64.060000\n",
       "75%         71.822250\n",
       "max         86.542400\n",
       "Name: LifeExpectancy, dtype: float64"
      ]
     },
     "execution_count": 125,
     "metadata": {},
     "output_type": "execute_result"
    }
   ],
   "source": [
    "df[\"LifeExpectancy\"].describe()"
   ]
  },
  {
   "cell_type": "code",
   "execution_count": null,
   "metadata": {},
   "outputs": [
    {
     "name": "stdout",
     "output_type": "stream",
     "text": [
      "Entity\n",
      "USSR            32.700000\n",
      "South Sudan     38.033107\n",
      "Mali            43.076225\n",
      "Sierra Leone    43.208040\n",
      "Niger           44.237465\n",
      "East Timor      44.307192\n",
      "Chad            44.333856\n",
      "Nigeria         44.655007\n",
      "Malawi          44.684810\n",
      "Angola          45.086359\n",
      "Name: LifeExpectancy, dtype: float64\n"
     ]
    }
   ],
   "source": [
    "mean_life_expectancy = df.groupby(\"Entity\")[\"LifeExpectancy\"].mean().sort_values()\n",
    "print(mean_life_expectancy.head(10))\n"
   ]
  },
  {
   "cell_type": "code",
   "execution_count": 144,
   "metadata": {},
   "outputs": [
    {
     "name": "stdout",
     "output_type": "stream",
     "text": [
      "Entity\n",
      "Faroe Islands    74.684574\n",
      "Gibraltar        75.039728\n",
      "New Zealand      75.130423\n",
      "Jersey           75.202542\n",
      "Hong Kong        75.331715\n",
      "Israel           75.501712\n",
      "Guernsey         76.717325\n",
      "San Marino       76.879115\n",
      "Andorra          77.045154\n",
      "Monaco           77.251549\n",
      "Name: LifeExpectancy, dtype: float64\n"
     ]
    }
   ],
   "source": [
    "print(mean_life_expectancy.tail(10))"
   ]
  },
  {
   "cell_type": "code",
   "execution_count": 154,
   "metadata": {},
   "outputs": [
    {
     "name": "stdout",
     "output_type": "stream",
     "text": [
      "['USSR', 'South Sudan', 'Mali', 'Sierra Leone', 'Niger', 'Israel', 'Guernsey', 'San Marino', 'Andorra', 'Monaco']\n"
     ]
    }
   ],
   "source": [
    "# Get the entities with the lowest life expectancy\n",
    "lowest_entities = mean_life_expectancy.head(5).index.tolist()\n",
    "# Get the entities with the lowest life expectancy\n",
    "highest_entities = mean_life_expectancy.tail(5).index.tolist()\n",
    "# Merge the lowest and highest life expectancy entities\n",
    "merged_entities = lowest_entities + highest_entities\n",
    "\n",
    "# Print the merged list\n",
    "print(merged_entities)\n"
   ]
  },
  {
   "cell_type": "code",
   "execution_count": 155,
   "metadata": {},
   "outputs": [
    {
     "data": {
      "application/vnd.microsoft.datawrangler.viewer.v0+json": {
       "columns": [
        {
         "name": "Year",
         "rawType": "int64",
         "type": "integer"
        },
        {
         "name": "Andorra",
         "rawType": "float64",
         "type": "float"
        },
        {
         "name": "Guernsey",
         "rawType": "float64",
         "type": "float"
        },
        {
         "name": "Israel",
         "rawType": "float64",
         "type": "float"
        },
        {
         "name": "Mali",
         "rawType": "float64",
         "type": "float"
        },
        {
         "name": "Monaco",
         "rawType": "float64",
         "type": "float"
        },
        {
         "name": "Niger",
         "rawType": "float64",
         "type": "float"
        },
        {
         "name": "San Marino",
         "rawType": "float64",
         "type": "float"
        },
        {
         "name": "Sierra Leone",
         "rawType": "float64",
         "type": "float"
        },
        {
         "name": "South Sudan",
         "rawType": "float64",
         "type": "float"
        }
       ],
       "conversionMethod": "pd.DataFrame",
       "ref": "6d9bbcd1-b814-4958-bf8b-a7ce12827a5f",
       "rows": [
        [
         "1950",
         "64.5863",
         "70.2148",
         "68.1852",
         "28.1697",
         "66.4679",
         "36.2515",
         "68.7406",
         "29.5691",
         "31.2475"
        ],
        [
         "1951",
         "64.2338",
         "70.2679",
         "68.0504",
         "28.2909",
         "66.6067",
         "36.2134",
         "68.9538",
         "29.8212",
         "31.5457"
        ],
        [
         "1952",
         "67.4204",
         "72.2794",
         "68.0466",
         "28.5269",
         "67.1183",
         "36.1709",
         "69.0649",
         "30.3494",
         "31.9503"
        ],
        [
         "1953",
         "68.2467",
         "72.3799",
         "68.1303",
         "28.7642",
         "69.7567",
         "36.133",
         "69.2603",
         "30.8742",
         "32.4833"
        ],
        [
         "1954",
         "69.4804",
         "71.9688",
         "68.3024",
         "28.9709",
         "70.4533",
         "36.1863",
         "69.4177",
         "31.3085",
         "32.9317"
        ]
       ],
       "shape": {
        "columns": 9,
        "rows": 5
       }
      },
      "text/html": [
       "<div>\n",
       "<style scoped>\n",
       "    .dataframe tbody tr th:only-of-type {\n",
       "        vertical-align: middle;\n",
       "    }\n",
       "\n",
       "    .dataframe tbody tr th {\n",
       "        vertical-align: top;\n",
       "    }\n",
       "\n",
       "    .dataframe thead th {\n",
       "        text-align: right;\n",
       "    }\n",
       "</style>\n",
       "<table border=\"1\" class=\"dataframe\">\n",
       "  <thead>\n",
       "    <tr style=\"text-align: right;\">\n",
       "      <th>Entity</th>\n",
       "      <th>Andorra</th>\n",
       "      <th>Guernsey</th>\n",
       "      <th>Israel</th>\n",
       "      <th>Mali</th>\n",
       "      <th>Monaco</th>\n",
       "      <th>Niger</th>\n",
       "      <th>San Marino</th>\n",
       "      <th>Sierra Leone</th>\n",
       "      <th>South Sudan</th>\n",
       "    </tr>\n",
       "    <tr>\n",
       "      <th>Year</th>\n",
       "      <th></th>\n",
       "      <th></th>\n",
       "      <th></th>\n",
       "      <th></th>\n",
       "      <th></th>\n",
       "      <th></th>\n",
       "      <th></th>\n",
       "      <th></th>\n",
       "      <th></th>\n",
       "    </tr>\n",
       "  </thead>\n",
       "  <tbody>\n",
       "    <tr>\n",
       "      <th>1950</th>\n",
       "      <td>64.5863</td>\n",
       "      <td>70.2148</td>\n",
       "      <td>68.1852</td>\n",
       "      <td>28.1697</td>\n",
       "      <td>66.4679</td>\n",
       "      <td>36.2515</td>\n",
       "      <td>68.7406</td>\n",
       "      <td>29.5691</td>\n",
       "      <td>31.2475</td>\n",
       "    </tr>\n",
       "    <tr>\n",
       "      <th>1951</th>\n",
       "      <td>64.2338</td>\n",
       "      <td>70.2679</td>\n",
       "      <td>68.0504</td>\n",
       "      <td>28.2909</td>\n",
       "      <td>66.6067</td>\n",
       "      <td>36.2134</td>\n",
       "      <td>68.9538</td>\n",
       "      <td>29.8212</td>\n",
       "      <td>31.5457</td>\n",
       "    </tr>\n",
       "    <tr>\n",
       "      <th>1952</th>\n",
       "      <td>67.4204</td>\n",
       "      <td>72.2794</td>\n",
       "      <td>68.0466</td>\n",
       "      <td>28.5269</td>\n",
       "      <td>67.1183</td>\n",
       "      <td>36.1709</td>\n",
       "      <td>69.0649</td>\n",
       "      <td>30.3494</td>\n",
       "      <td>31.9503</td>\n",
       "    </tr>\n",
       "    <tr>\n",
       "      <th>1953</th>\n",
       "      <td>68.2467</td>\n",
       "      <td>72.3799</td>\n",
       "      <td>68.1303</td>\n",
       "      <td>28.7642</td>\n",
       "      <td>69.7567</td>\n",
       "      <td>36.1330</td>\n",
       "      <td>69.2603</td>\n",
       "      <td>30.8742</td>\n",
       "      <td>32.4833</td>\n",
       "    </tr>\n",
       "    <tr>\n",
       "      <th>1954</th>\n",
       "      <td>69.4804</td>\n",
       "      <td>71.9688</td>\n",
       "      <td>68.3024</td>\n",
       "      <td>28.9709</td>\n",
       "      <td>70.4533</td>\n",
       "      <td>36.1863</td>\n",
       "      <td>69.4177</td>\n",
       "      <td>31.3085</td>\n",
       "      <td>32.9317</td>\n",
       "    </tr>\n",
       "  </tbody>\n",
       "</table>\n",
       "</div>"
      ],
      "text/plain": [
       "Entity  Andorra  Guernsey   Israel     Mali   Monaco    Niger  San Marino  \\\n",
       "Year                                                                        \n",
       "1950    64.5863   70.2148  68.1852  28.1697  66.4679  36.2515     68.7406   \n",
       "1951    64.2338   70.2679  68.0504  28.2909  66.6067  36.2134     68.9538   \n",
       "1952    67.4204   72.2794  68.0466  28.5269  67.1183  36.1709     69.0649   \n",
       "1953    68.2467   72.3799  68.1303  28.7642  69.7567  36.1330     69.2603   \n",
       "1954    69.4804   71.9688  68.3024  28.9709  70.4533  36.1863     69.4177   \n",
       "\n",
       "Entity  Sierra Leone  South Sudan  \n",
       "Year                               \n",
       "1950         29.5691      31.2475  \n",
       "1951         29.8212      31.5457  \n",
       "1952         30.3494      31.9503  \n",
       "1953         30.8742      32.4833  \n",
       "1954         31.3085      32.9317  "
      ]
     },
     "execution_count": 155,
     "metadata": {},
     "output_type": "execute_result"
    }
   ],
   "source": [
    "\n",
    "df_ctr_f2 = df.query('Entity == @merged_entities & Year > 1949').pivot(index='Year', columns='Entity', values='LifeExpectancy')\n",
    "df_ctr_f2.head()"
   ]
  },
  {
   "cell_type": "code",
   "execution_count": 156,
   "metadata": {},
   "outputs": [
    {
     "data": {
      "text/plain": [
       "Text(0.5, 1.0, 'Life Expectancy in Selected Countries (Year > 1949)')"
      ]
     },
     "execution_count": 156,
     "metadata": {},
     "output_type": "execute_result"
    },
    {
     "data": {
      "image/png": "[encoded data removed]",
      "text/plain": [
       "<Figure size 1000x500 with 1 Axes>"
      ]
     },
     "metadata": {},
     "output_type": "display_data"
    }
   ],
   "source": [
    "df_ctr_f2.plot(legend=True, figsize=(10, 5))\n",
    "plt.title(\"Life Expectancy in Selected Countries (Year > 1949)\")"
   ]
  },
  {
   "cell_type": "markdown",
   "metadata": {},
   "source": [
    "#### South Sudan"
   ]
  },
  {
   "cell_type": "code",
   "execution_count": 159,
   "metadata": {},
   "outputs": [
    {
     "data": {
      "text/plain": [
       "Text(0.5, 1.0, 'Life Expectancy in South Sudan (Year > 1949)')"
      ]
     },
     "execution_count": 159,
     "metadata": {},
     "output_type": "execute_result"
    },
    {
     "data": {
      "image/png": "[encoded data removed]",
      "text/plain": [
       "<Figure size 1000x500 with 1 Axes>"
      ]
     },
     "metadata": {},
     "output_type": "display_data"
    }
   ],
   "source": [
    "ss=['South Sudan']\n",
    "df_ctr_ss = df.query('Entity == @ss & Year > 1949').pivot(index='Year', columns='Entity', values='LifeExpectancy')\n",
    "df_ctr_ss.plot(legend=True, figsize=(10, 5),color=\"yellow\")\n",
    "plt.title(\"Life Expectancy in South Sudan (Year > 1949)\") \n"
   ]
  },
  {
   "cell_type": "markdown",
   "metadata": {},
   "source": [
    "The graph shows a sharp decline in life expectancy in South Sudan around the late 1980s and early 1990s. This drop is likely due to the intensification of the Second Sudanese Civil War, leading to famine, disease, and displacement. The extreme fluctuations in life expectancy during this period indicate severe instability, followed by improvements after 2005, when the war ended, and 2011, when South Sudan gained independence.\n",
    "\n",
    "- For Further reading follow the following links.\n",
    "1.  UNHCR:  https://www.refworld.org/reference/annualreport/hrw/1991/en/41208\n",
    "2.  AP News : https://apnews.com/general-news-290aba2d7ba94493bc23111ca1b937c7?\n",
    "3.  National Library Medicine : https://pubmed.ncbi.nlm.nih.gov/7834266/"
   ]
  },
  {
   "cell_type": "markdown",
   "metadata": {},
   "source": [
    "#### Ethiopia"
   ]
  },
  {
   "cell_type": "code",
   "execution_count": 157,
   "metadata": {},
   "outputs": [
    {
     "data": {
      "text/plain": [
       "Text(0.5, 1.0, 'Life Expectancy in Ethiopia (Year > 1949)')"
      ]
     },
     "execution_count": 157,
     "metadata": {},
     "output_type": "execute_result"
    },
    {
     "data": {
      "image/png": "[encoded data removed]",
      "text/plain": [
       "<Figure size 1000x500 with 1 Axes>"
      ]
     },
     "metadata": {},
     "output_type": "display_data"
    }
   ],
   "source": [
    "et=['Ethiopia']\n",
    "df_ctr_et = df.query('Entity == @et & Year > 1949').pivot(index='Year', columns='Entity', values='LifeExpectancy')\n",
    "df_ctr_et.plot(legend=True, figsize=(10, 5))\n",
    "plt.title(\"Life Expectancy in Ethiopia (Year > 1949)\") "
   ]
  },
  {
   "cell_type": "markdown",
   "metadata": {},
   "source": [
    "1974 – 1991: Derg Regime and Civil War\n",
    "\n",
    "    1977-1978: The Red Terror campaign led to mass killings, repression, and instability.\n",
    "\n",
    "    1984-1985: Ethiopian Famine caused by drought and government policies killed an estimated 1 million people.\n",
    "\n",
    "    Ongoing Civil War: Armed conflicts between the Derg and rebel groups (such as the Tigray People’s Liberation Front (TPLF) and Eritrean People's Liberation Front (EPLF)) worsened living conditions.\n",
    "\n",
    "1991 – 2000: Transition to Stability\n",
    "\n",
    "    1991: The Derg was overthrown, and the Ethiopian People’s Revolutionary Democratic Front (EPRDF) took power."
   ]
  },
  {
   "cell_type": "code",
   "execution_count": null,
   "metadata": {},
   "outputs": [],
   "source": []
  }
 ],
 "metadata": {
  "kernelspec": {
   "display_name": "Python 3",
   "language": "python",
   "name": "python3"
  },
  "language_info": {
   "codemirror_mode": {
    "name": "ipython",
    "version": 3
   },
   "file_extension": ".py",
   "mimetype": "text/x-python",
   "name": "python",
   "nbconvert_exporter": "python",
   "pygments_lexer": "ipython3",
   "version": "3.11.8"
  }
 },
 "nbformat": 4,
 "nbformat_minor": 2
}
